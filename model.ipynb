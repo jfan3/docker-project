{
 "cells": [
  {
   "cell_type": "code",
   "execution_count": 3,
   "metadata": {
    "scrolled": true
   },
   "outputs": [
    {
     "name": "stdout",
     "output_type": "stream",
     "text": [
      "Starting Spark application\n"
     ]
    },
    {
     "data": {
      "text/html": [
       "<table>\n",
       "<tr><th>ID</th><th>YARN Application ID</th><th>Kind</th><th>State</th><th>Spark UI</th><th>Driver log</th><th>Current session?</th></tr><tr><td>1</td><td>application_1544305840468_0002</td><td>pyspark3</td><td>idle</td><td><a target=\"_blank\" href=\"http://ip-172-31-9-169.us-east-2.compute.internal:20888/proxy/application_1544305840468_0002/\">Link</a></td><td><a target=\"_blank\" href=\"http://ip-172-31-9-88.us-east-2.compute.internal:8042/node/containerlogs/container_1544305840468_0002_01_000001/livy\">Link</a></td><td>✔</td></tr></table>"
      ],
      "text/plain": [
       "<IPython.core.display.HTML object>"
      ]
     },
     "metadata": {},
     "output_type": "display_data"
    },
    {
     "name": "stdout",
     "output_type": "stream",
     "text": [
      "SparkSession available as 'spark'.\n"
     ]
    },
    {
     "data": {
      "text/html": [
       "Current session configs: <tt>{'executorMemory': '2g', 'executorCores': 3, 'numExecutors': 2, 'proxyUser': 'jovyan', 'kind': 'pyspark3'}</tt><br>"
      ],
      "text/plain": [
       "<IPython.core.display.HTML object>"
      ]
     },
     "metadata": {},
     "output_type": "display_data"
    },
    {
     "data": {
      "text/html": [
       "<table>\n",
       "<tr><th>ID</th><th>YARN Application ID</th><th>Kind</th><th>State</th><th>Spark UI</th><th>Driver log</th><th>Current session?</th></tr><tr><td>1</td><td>application_1544305840468_0002</td><td>pyspark</td><td>idle</td><td><a target=\"_blank\" href=\"http://ip-172-31-9-169.us-east-2.compute.internal:20888/proxy/application_1544305840468_0002/\">Link</a></td><td><a target=\"_blank\" href=\"http://ip-172-31-9-88.us-east-2.compute.internal:8042/node/containerlogs/container_1544305840468_0002_01_000001/livy\">Link</a></td><td>✔</td></tr></table>"
      ],
      "text/plain": [
       "<IPython.core.display.HTML object>"
      ]
     },
     "metadata": {},
     "output_type": "display_data"
    }
   ],
   "source": [
    "%%configure -f\n",
    "{\"executorMemory\": \"2g\",\n",
    "\"executorCores\": 3,\n",
    "\"numExecutors\": 2}\n"
   ]
  },
  {
   "cell_type": "markdown",
   "metadata": {},
   "source": [
    "# Predicting Mortality with  Simulated Medicare&Medicaid Data\n",
    "\n",
    "## Data Source\n",
    "https://www.cms.gov/Research-Statistics-Data-and-Systems/Downloadable-Public-Use-Files/SynPUFs/DESample01.html \n",
    "\n",
    "Please find data description in the GitHub repository https://github.com/jfan3/docker-project.git \n"
   ]
  },
  {
   "cell_type": "code",
   "execution_count": 34,
   "metadata": {},
   "outputs": [],
   "source": [
    "from pyspark.sql import *\n",
    "from pyspark.sql import DataFrameStatFunctions as statFunc\n",
    "import sys\n",
    "from pyspark.sql.window import Window\n",
    "from nltk.sentiment.vader import SentimentIntensityAnalyzer\n",
    "from nltk import tokenize\n",
    "import numpy as np\n",
    "from pyspark.sql.types import FloatType\n",
    "\n",
    "from pyspark.sql.functions import *\n",
    "from pyspark.ml.evaluation import RegressionEvaluator\n",
    "from pyspark.ml.regression import LinearRegression\n",
    "from pyspark.ml.tuning import ParamGridBuilder, TrainValidationSplit\n",
    "from pyspark.ml.classification import LogisticRegression, LogisticRegressionModel\n",
    "from pyspark.ml.feature import PCA, RFormula, VectorIndexer, VectorAssembler\n",
    "\n",
    "from pyspark.ml import Pipeline,PipelineModel\n",
    "\n",
    "import numpy as np\n",
    "import pandas as pd"
   ]
  },
  {
   "cell_type": "code",
   "execution_count": 5,
   "metadata": {},
   "outputs": [],
   "source": [
    "sc.setJobGroup(\"Read_CSV\",\"\")\n",
    "\n",
    "prescription = spark.read.option('header', 'true').option('inferSchema', 'true').csv('s3://final-project-data/DE1_0_2008_to_2010_Prescription_Drug_Events_Sample_1.csv')\n",
    "bene_2008 = spark.read.option('header', 'true').option('inferSchema', 'true').csv('s3://final-project-data/DE1_0_2008_Beneficiary_Summary_File_Sample_1.csv')\n",
    "bene_2009 = spark.read.option('header', 'true').option('inferSchema', 'true').csv('s3://final-project-data/DE1_0_2009_Beneficiary_Summary_File_Sample_1.csv')\n",
    "bene_2010 = spark.read.option('header', 'true').option('inferSchema', 'true').csv('s3://final-project-data/DE1_0_2010_Beneficiary_Summary_File_Sample_1.csv')\n",
    "\n"
   ]
  },
  {
   "cell_type": "code",
   "execution_count": 6,
   "metadata": {},
   "outputs": [],
   "source": [
    "bene_2008 = bene_2008.withColumn(\"mort\", when(bene_2008.BENE_DEATH_DT.isNotNull(), 1).otherwise(0))\n",
    "bene_2009 = bene_2009.withColumn(\"mort\", when(bene_2009.BENE_DEATH_DT.isNotNull(), 1).otherwise(0))\n",
    "bene_2010 = bene_2010.withColumn(\"mort\", when(bene_2010.BENE_DEATH_DT.isNotNull(), 1).otherwise(0))\n"
   ]
  },
  {
   "cell_type": "markdown",
   "metadata": {},
   "source": [
    "### Constructing variable for next year's mortality"
   ]
  },
  {
   "cell_type": "code",
   "execution_count": 7,
   "metadata": {},
   "outputs": [],
   "source": [
    "m_2009 = bene_2009.filter(bene_2009[\"mort\"] == 1).select('DESYNPUF_ID').collect()\n",
    "m_2010 = bene_2010.filter(bene_2010[\"mort\"] == 1).select('DESYNPUF_ID').collect()\n",
    "m_2009 = [i.DESYNPUF_ID for i in m_2009]\n",
    "m_2010 = [i.DESYNPUF_ID for i in m_2010]"
   ]
  },
  {
   "cell_type": "code",
   "execution_count": 8,
   "metadata": {},
   "outputs": [],
   "source": [
    "bene_2008 = bene_2008.withColumn(\"mort_next_temp\", bene_2008.DESYNPUF_ID.isin(m_2009))\n",
    "bene_2008 = bene_2008.withColumn(\"mort_next\", when(bene_2008.mort_next_temp==True,1).otherwise(0))\n",
    "bene_2009 = bene_2009.withColumn(\"mort_next_temp\", bene_2009.DESYNPUF_ID.isin(m_2010))\n",
    "bene_2009 = bene_2009.withColumn(\"mort_next\", when(bene_2009.mort_next_temp==True,1).otherwise(0))\n"
   ]
  },
  {
   "cell_type": "code",
   "execution_count": 9,
   "metadata": {},
   "outputs": [
    {
     "name": "stdout",
     "output_type": "stream",
     "text": [
      "['DESYNPUF_ID', 'BENE_BIRTH_DT', 'BENE_DEATH_DT', 'BENE_SEX_IDENT_CD', 'BENE_RACE_CD', 'BENE_ESRD_IND', 'SP_STATE_CODE', 'BENE_COUNTY_CD', 'BENE_HI_CVRAGE_TOT_MONS', 'BENE_SMI_CVRAGE_TOT_MONS', 'BENE_HMO_CVRAGE_TOT_MONS', 'PLAN_CVRG_MOS_NUM', 'SP_ALZHDMTA', 'SP_CHF', 'SP_CHRNKIDN', 'SP_CNCR', 'SP_COPD', 'SP_DEPRESSN', 'SP_DIABETES', 'SP_ISCHMCHT', 'SP_OSTEOPRS', 'SP_RA_OA', 'SP_STRKETIA', 'MEDREIMB_IP', 'BENRES_IP', 'PPPYMT_IP', 'MEDREIMB_OP', 'BENRES_OP', 'PPPYMT_OP', 'MEDREIMB_CAR', 'BENRES_CAR', 'PPPYMT_CAR', 'mort', 'mort_next_temp', 'mort_next']"
     ]
    }
   ],
   "source": [
    "bene_2008.columns"
   ]
  },
  {
   "cell_type": "code",
   "execution_count": 10,
   "metadata": {},
   "outputs": [],
   "source": [
    "to_merge = prescription.groupBy('DESYNPUF_ID').agg(sum('TOT_RX_CST_AMT').alias('TOTAL_DRUG_EXP'))"
   ]
  },
  {
   "cell_type": "code",
   "execution_count": 11,
   "metadata": {},
   "outputs": [],
   "source": [
    "bene2008 = bene_2008.join(to_merge, how='left', on='DESYNPUF_ID')"
   ]
  },
  {
   "cell_type": "code",
   "execution_count": 12,
   "metadata": {},
   "outputs": [
    {
     "name": "stdout",
     "output_type": "stream",
     "text": [
      "116352"
     ]
    }
   ],
   "source": [
    "bene2008.count()"
   ]
  },
  {
   "cell_type": "code",
   "execution_count": 13,
   "metadata": {},
   "outputs": [],
   "source": [
    "bene2009 = bene_2009.join(to_merge, how='left', on='DESYNPUF_ID')"
   ]
  },
  {
   "cell_type": "code",
   "execution_count": 14,
   "metadata": {},
   "outputs": [
    {
     "name": "stdout",
     "output_type": "stream",
     "text": [
      "114538"
     ]
    }
   ],
   "source": [
    "bene2009.count()"
   ]
  },
  {
   "cell_type": "markdown",
   "metadata": {},
   "source": [
    "### Constructing variable for this year's total drug expenditure"
   ]
  },
  {
   "cell_type": "code",
   "execution_count": 15,
   "metadata": {},
   "outputs": [],
   "source": [
    "df09 = bene2009.select('mort_next','BENE_HMO_CVRAGE_TOT_MONS', 'SP_CNCR', 'TOTAL_DRUG_EXP')\n",
    "df09=df09.na.fill({'TOTAL_DRUG_EXP': 0})"
   ]
  },
  {
   "cell_type": "code",
   "execution_count": 16,
   "metadata": {},
   "outputs": [
    {
     "name": "stdout",
     "output_type": "stream",
     "text": [
      "+------------------+---------+\n",
      "|features          |mort_next|\n",
      "+------------------+---------+\n",
      "|[0.0,2.0,0.0]     |1        |\n",
      "|[0.0,2.0,5140.0]  |0        |\n",
      "|[0.0,2.0,1110.0]  |0        |\n",
      "|[5.0,1.0,350.0]   |0        |\n",
      "|[12.0,2.0,1050.0] |0        |\n",
      "|[12.0,2.0,0.0]    |0        |\n",
      "|[0.0,2.0,7350.0]  |0        |\n",
      "|[12.0,2.0,10250.0]|0        |\n",
      "|[12.0,2.0,0.0]    |0        |\n",
      "|[0.0,2.0,0.0]     |0        |\n",
      "|[12.0,2.0,740.0]  |0        |\n",
      "|[0.0,2.0,0.0]     |0        |\n",
      "|[12.0,2.0,9740.0] |0        |\n",
      "|[0.0,2.0,100.0]   |0        |\n",
      "|[0.0,2.0,1880.0]  |0        |\n",
      "|[0.0,2.0,40.0]    |0        |\n",
      "|[0.0,2.0,350.0]   |0        |\n",
      "|[0.0,2.0,1480.0]  |0        |\n",
      "|[0.0,2.0,4260.0]  |0        |\n",
      "|[12.0,2.0,1230.0] |0        |\n",
      "+------------------+---------+\n",
      "only showing top 20 rows"
     ]
    }
   ],
   "source": [
    "features = ['BENE_HMO_CVRAGE_TOT_MONS', 'SP_CNCR', 'TOTAL_DRUG_EXP']\n",
    "assembler = VectorAssembler(inputCols=features,outputCol=\"features\")\n",
    "df09_new = assembler.transform(df09)\n",
    "df09_new.select(\"features\", \"mort_next\").show(truncate=False)\n"
   ]
  },
  {
   "cell_type": "code",
   "execution_count": 17,
   "metadata": {},
   "outputs": [],
   "source": [
    "formula = RFormula(formula = \"mort_next ~ BENE_HMO_CVRAGE_TOT_MONS + SP_CNCR + TOTAL_DRUG_EXP\",featuresCol=\"features\",\n",
    "    labelCol=\"label\")\n",
    "RForm_model = formula.fit(bene2009)"
   ]
  },
  {
   "cell_type": "code",
   "execution_count": 18,
   "metadata": {},
   "outputs": [],
   "source": [
    "df09_new=df09_new.withColumnRenamed(\"mort_next\", \"label\")\n",
    "bene2009=bene2009.withColumnRenamed(\"mort_next\", \"label\")"
   ]
  },
  {
   "cell_type": "code",
   "execution_count": 19,
   "metadata": {},
   "outputs": [],
   "source": [
    "lr = LogisticRegression(maxIter=10, regParam=0.001)\n",
    "lrModel = lr.fit(df09_new)\n"
   ]
  },
  {
   "cell_type": "code",
   "execution_count": 20,
   "metadata": {},
   "outputs": [],
   "source": [
    "pipeline = Pipeline(stages=[RForm_model,lr])\n",
    "pip_model = pipeline.fit(df09)\n"
   ]
  },
  {
   "cell_type": "code",
   "execution_count": 21,
   "metadata": {
    "scrolled": true
   },
   "outputs": [
    {
     "name": "stdout",
     "output_type": "stream",
     "text": [
      "['__class__', '__delattr__', '__dict__', '__dir__', '__doc__', '__eq__', '__format__', '__ge__', '__getattribute__', '__gt__', '__hash__', '__init__', '__le__', '__lt__', '__module__', '__ne__', '__new__', '__reduce__', '__reduce_ex__', '__repr__', '__setattr__', '__sizeof__', '__str__', '__subclasshook__', '__weakref__', '_call_java', '_create_from_java_class', '_java_obj', '_new_java_array', '_new_java_obj', 'accuracy', 'areaUnderROC', 'fMeasureByLabel', 'fMeasureByThreshold', 'falsePositiveRateByLabel', 'featuresCol', 'labelCol', 'labels', 'objectiveHistory', 'pr', 'precisionByLabel', 'precisionByThreshold', 'predictionCol', 'predictions', 'probabilityCol', 'recallByLabel', 'recallByThreshold', 'roc', 'totalIterations', 'truePositiveRateByLabel', 'weightedFMeasure', 'weightedFalsePositiveRate', 'weightedPrecision', 'weightedRecall', 'weightedTruePositiveRate']\n",
      "0.9837346557474376"
     ]
    }
   ],
   "source": [
    "trainingSummary = lrModel.summary\n",
    "print(dir(trainingSummary))\n",
    "trainingSummary.accuracy"
   ]
  },
  {
   "cell_type": "code",
   "execution_count": 22,
   "metadata": {
    "scrolled": true
   },
   "outputs": [
    {
     "name": "stdout",
     "output_type": "stream",
     "text": [
      "[1.0, 0.0]"
     ]
    }
   ],
   "source": [
    "trainingSummary.recallByLabel"
   ]
  },
  {
   "cell_type": "markdown",
   "metadata": {},
   "source": [
    "## The logistic regression model has accuracy of 0.98 and recall rate of 1"
   ]
  },
  {
   "cell_type": "code",
   "execution_count": 23,
   "metadata": {},
   "outputs": [
    {
     "name": "stdout",
     "output_type": "stream",
     "text": [
      "----------------------------------------\n",
      "Exception happened during processing of request from ('127.0.0.1', 36916)\n",
      "----------------------------------------\n",
      "+----------+\n",
      "|prediction|\n",
      "+----------+\n",
      "|       0.0|\n",
      "+----------+\n",
      "\n",
      "Traceback (most recent call last):\n",
      "  File \"/usr/lib64/python3.4/socketserver.py\", line 305, in _handle_request_noblock\n",
      "    self.process_request(request, client_address)\n",
      "  File \"/usr/lib64/python3.4/socketserver.py\", line 331, in process_request\n",
      "    self.finish_request(request, client_address)\n",
      "  File \"/usr/lib64/python3.4/socketserver.py\", line 344, in finish_request\n",
      "    self.RequestHandlerClass(request, client_address, self)\n",
      "  File \"/usr/lib64/python3.4/socketserver.py\", line 673, in __init__\n",
      "    self.handle()\n",
      "  File \"/usr/lib/spark/python/lib/pyspark.zip/pyspark/accumulators.py\", line 263, in handle\n",
      "    poll(authenticate_and_accum_updates)\n",
      "  File \"/usr/lib/spark/python/lib/pyspark.zip/pyspark/accumulators.py\", line 238, in poll\n",
      "    if func():\n",
      "  File \"/usr/lib/spark/python/lib/pyspark.zip/pyspark/accumulators.py\", line 251, in authenticate_and_accum_updates\n",
      "    received_token = self.rfile.read(len(auth_token))\n",
      "TypeError: object of type 'NoneType' has no len()"
     ]
    }
   ],
   "source": [
    "data = spark.createDataFrame([[5.0,1.0,35000.0]], [\"BENE_HMO_CVRAGE_TOT_MONS\", \"SP_CNCR\", \"TOTAL_DRUG_EXP\"])\n",
    "\n",
    "pip_model.transform(data).select(\"prediction\").show()\n"
   ]
  },
  {
   "cell_type": "code",
   "execution_count": 24,
   "metadata": {
    "scrolled": true
   },
   "outputs": [
    {
     "name": "stdout",
     "output_type": "stream",
     "text": [
      "+----------+\n",
      "|prediction|\n",
      "+----------+\n",
      "|       0.0|\n",
      "+----------+"
     ]
    }
   ],
   "source": [
    "data_2 = assembler.transform(data)\n",
    "lrModel.transform(data_2).select(\"prediction\").show()\n"
   ]
  },
  {
   "cell_type": "markdown",
   "metadata": {},
   "source": [
    "### Save the models locally and in S3"
   ]
  },
  {
   "cell_type": "code",
   "execution_count": 39,
   "metadata": {},
   "outputs": [],
   "source": [
    "pip_model.save(\"models/pipeline_model\")\n",
    "pip_model.save(\"s3://final-project-data/models/pipeline_model\")"
   ]
  },
  {
   "cell_type": "code",
   "execution_count": 42,
   "metadata": {},
   "outputs": [],
   "source": [
    "lrModel.save(\"/models/lrModel\")\n",
    "lrModel.save(\"s3://final-project-data/models/lrModel\")"
   ]
  },
  {
   "cell_type": "code",
   "execution_count": 40,
   "metadata": {},
   "outputs": [],
   "source": [
    "read_pip = PipelineModel.load(\"s3://final-project-data/models/pipeline_model\")"
   ]
  },
  {
   "cell_type": "code",
   "execution_count": 41,
   "metadata": {},
   "outputs": [
    {
     "name": "stdout",
     "output_type": "stream",
     "text": [
      "+----------+\n",
      "|prediction|\n",
      "+----------+\n",
      "|       0.0|\n",
      "+----------+"
     ]
    }
   ],
   "source": [
    "read_pip.transform(data).select(\"prediction\").show()\n"
   ]
  },
  {
   "cell_type": "code",
   "execution_count": 35,
   "metadata": {},
   "outputs": [],
   "source": [
    "read_lrModel = LogisticRegressionModel.load(\"lrModel\")"
   ]
  },
  {
   "cell_type": "code",
   "execution_count": 36,
   "metadata": {},
   "outputs": [
    {
     "name": "stdout",
     "output_type": "stream",
     "text": [
      "+----------+\n",
      "|prediction|\n",
      "+----------+\n",
      "|       0.0|\n",
      "+----------+"
     ]
    }
   ],
   "source": [
    "read_lrModel.transform(data_2).select(\"prediction\").show()\n"
   ]
  },
  {
   "cell_type": "code",
   "execution_count": null,
   "metadata": {},
   "outputs": [],
   "source": []
  },
  {
   "cell_type": "code",
   "execution_count": null,
   "metadata": {},
   "outputs": [],
   "source": []
  },
  {
   "cell_type": "code",
   "execution_count": null,
   "metadata": {},
   "outputs": [],
   "source": []
  },
  {
   "cell_type": "code",
   "execution_count": null,
   "metadata": {},
   "outputs": [],
   "source": []
  },
  {
   "cell_type": "code",
   "execution_count": null,
   "metadata": {},
   "outputs": [],
   "source": []
  },
  {
   "cell_type": "code",
   "execution_count": null,
   "metadata": {},
   "outputs": [],
   "source": []
  },
  {
   "cell_type": "code",
   "execution_count": null,
   "metadata": {},
   "outputs": [],
   "source": []
  },
  {
   "cell_type": "code",
   "execution_count": null,
   "metadata": {},
   "outputs": [],
   "source": []
  },
  {
   "cell_type": "code",
   "execution_count": null,
   "metadata": {},
   "outputs": [],
   "source": []
  }
 ],
 "metadata": {
  "kernelspec": {
   "display_name": "Python 3",
   "language": "python",
   "name": "python3"
  },
  "language_info": {
   "codemirror_mode": {
    "name": "ipython",
    "version": 3
   },
   "file_extension": ".py",
   "mimetype": "text/x-python",
   "name": "python",
   "nbconvert_exporter": "python",
   "pygments_lexer": "ipython3",
   "version": "3.6.4"
  }
 },
 "nbformat": 4,
 "nbformat_minor": 2
}
